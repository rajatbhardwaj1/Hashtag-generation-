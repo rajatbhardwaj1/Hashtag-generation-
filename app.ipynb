{
 "cells": [
  {
   "cell_type": "code",
   "execution_count": 1,
   "metadata": {},
   "outputs": [],
   "source": [
    "import gensim.downloader"
   ]
  },
  {
   "cell_type": "code",
   "execution_count": 2,
   "metadata": {},
   "outputs": [],
   "source": [
    "glove_vectors = gensim.downloader.load('glove-twitter-50')"
   ]
  },
  {
   "cell_type": "code",
   "execution_count": 27,
   "metadata": {},
   "outputs": [
    {
     "data": {
      "text/plain": [
       "0.8969455"
      ]
     },
     "execution_count": 27,
     "metadata": {},
     "output_type": "execute_result"
    }
   ],
   "source": [
    "glove_vectors.similarity('the' , 'there')"
   ]
  },
  {
   "cell_type": "code",
   "execution_count": 41,
   "metadata": {},
   "outputs": [
    {
     "name": "stdout",
     "output_type": "stream",
     "text": [
      " * Serving Flask app \"__main__\" (lazy loading)\n",
      " * Environment: production\n",
      "\u001b[31m   WARNING: This is a development server. Do not use it in a production deployment.\u001b[0m\n",
      "\u001b[2m   Use a production WSGI server instead.\u001b[0m\n",
      " * Debug mode: off\n"
     ]
    },
    {
     "name": "stderr",
     "output_type": "stream",
     "text": [
      " * Running on http://localhost:5000/ (Press CTRL+C to quit)\n",
      "127.0.0.1 - - [26/Feb/2022 14:06:57] \"GET / HTTP/1.1\" 200 -\n",
      "127.0.0.1 - - [26/Feb/2022 14:07:00] \"GET / HTTP/1.1\" 200 -\n",
      "127.0.0.1 - - [26/Feb/2022 14:07:12] \"POST / HTTP/1.1\" 200 -\n"
     ]
    }
   ],
   "source": [
    "from flask import Flask, request, render_template\n",
    "\n",
    "app = Flask(__name__)\n",
    "\n",
    "\n",
    "@app.route('/')\n",
    "def my_form():\n",
    "    return render_template('my-form.html')\n",
    "\n",
    "\n",
    "@app.route('/', methods=['POST'])\n",
    "\n",
    "def my_form_post():\n",
    "    text = request.form['text']\n",
    "    number = request.form['number']\n",
    "\n",
    "    list_of_words = text.split()\n",
    "\n",
    "    hashtags_list = []\n",
    "    most_similar_vec = []\n",
    "\n",
    "    for word in list_of_words:\n",
    "        hashtags_list.append(word.lower())\n",
    "        if glove_vectors.__contains__(word):\n",
    "\n",
    "            most_similar_vec = glove_vectors.most_similar(word)\n",
    "            count = 0\n",
    "\n",
    "            for word_1, similarity in most_similar_vec:\n",
    "\n",
    "                hashtags_list.append(word_1)\n",
    "                count = count + 1\n",
    "\n",
    "    # finding the cosine similarity of the generated words with the entire entered text and sorting it in decending order w.r.t similarity\n",
    "\n",
    "    final_list = []\n",
    "    for hash_word in hashtags_list:\n",
    "        cosine_sim = 0\n",
    "        # not including words with length less or equal to 4\n",
    "        if len(hash_word) <= 3:\n",
    "            continue\n",
    "        for word in text:\n",
    "\n",
    "            # checking if the input word is in the vocabulary\n",
    "            if glove_vectors.__contains__(word) and glove_vectors.__contains__(hash_word):\n",
    "                # comparing each word of the generated word with the entire text\n",
    "                cosine_sim = cosine_sim + \\\n",
    "                    glove_vectors.similarity(word, hash_word)\n",
    "\n",
    "        final_list.append((hash_word, cosine_sim))\n",
    "\n",
    "    # sorting with respect to total cosine similarity in increasing order \n",
    "    # words having high total cosine similarity are not good hashtags \n",
    "\n",
    "    final_list.sort(key=lambda x: x[1])\n",
    "\n",
    "\n",
    "    count = 0\n",
    "    # removing duplicates\n",
    "    newlist = sorted(set(final_list), key=lambda x: final_list.index(x))\n",
    "\n",
    "    processed_text = \"\"\n",
    "\n",
    "    ct = 0\n",
    "\n",
    "    for word, similarity in newlist:\n",
    "\n",
    "        if glove_vectors.__contains__(word):\n",
    "            if glove_vectors.similarity(word , 'the') >= 0.8 : #filtering some common words related to 'the'\n",
    "                continue\n",
    "        processed_text = processed_text+'#'+word + ' '\n",
    "\n",
    "        ct = ct + 1\n",
    "\n",
    "        if str(ct) == number:\n",
    "            break\n",
    "\n",
    "    return render_template('result.html' , result = processed_text)\n",
    "\n",
    "\n",
    "app.run(host='localhost', port=5000)\n"
   ]
  }
 ],
 "metadata": {
  "interpreter": {
   "hash": "3a7853f465984184c2db926f12cf0514f49bd82ebd08c64e7d47bb74214f72b4"
  },
  "kernelspec": {
   "display_name": "Python 3.9.7 ('base')",
   "language": "python",
   "name": "python3"
  },
  "language_info": {
   "codemirror_mode": {
    "name": "ipython",
    "version": 3
   },
   "file_extension": ".py",
   "mimetype": "text/x-python",
   "name": "python",
   "nbconvert_exporter": "python",
   "pygments_lexer": "ipython3",
   "version": "3.9.7"
  },
  "orig_nbformat": 4
 },
 "nbformat": 4,
 "nbformat_minor": 2
}
